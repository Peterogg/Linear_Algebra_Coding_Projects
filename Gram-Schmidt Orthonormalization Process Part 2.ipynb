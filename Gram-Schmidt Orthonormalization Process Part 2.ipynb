{
  "nbformat": 4,
  "nbformat_minor": 0,
  "metadata": {
    "colab": {
      "name": "Copy of Untitled0.ipynb",
      "provenance": [],
      "collapsed_sections": [],
      "authorship_tag": "ABX9TyP2zpJw7aYXk5rgiu1oa0rO",
      "include_colab_link": true
    },
    "kernelspec": {
      "name": "python3",
      "display_name": "Python 3"
    },
    "language_info": {
      "name": "python"
    }
  },
  "cells": [
    {
      "cell_type": "markdown",
      "metadata": {
        "id": "view-in-github",
        "colab_type": "text"
      },
      "source": [
        "<a href=\"https://colab.research.google.com/github/Peterogg/Linear_Algebra_Coding_Projects/blob/main/Gram-Schmidt%20Orthonormalization%20Process%20Part%202.ipynb\" target=\"_parent\"><img src=\"https://colab.research.google.com/assets/colab-badge.svg\" alt=\"Open In Colab\"/></a>"
      ]
    },
    {
      "cell_type": "code",
      "metadata": {
        "id": "EbBMgChC0G0e"
      },
      "source": [
        "import matplotlib.pyplot as plt\n",
        "from sympy import Poly\n",
        "import sympy as sym\n",
        "import numpy as np\n",
        "from numpy import c_\n",
        "\n",
        "# We'll specify that x and t are variables:\n",
        "x, t = sym.symbols('x, t')\n",
        "\n",
        "ll = \"loaded\""
      ],
      "execution_count": null,
      "outputs": []
    },
    {
      "cell_type": "code",
      "metadata": {
        "colab": {
          "base_uri": "https://localhost:8080/",
          "height": 197
        },
        "id": "d-wis_940ozi",
        "outputId": "324c059b-eb26-4616-e18c-4d745128df17"
      },
      "source": [
        "# Create a vector\n",
        "r = np.matrix('1;2;3;4')\n",
        "\n",
        "r.dot(r)"
      ],
      "execution_count": null,
      "outputs": [
        {
          "output_type": "error",
          "ename": "ValueError",
          "evalue": "ignored",
          "traceback": [
            "\u001b[0;31m---------------------------------------------------------------------------\u001b[0m",
            "\u001b[0;31mValueError\u001b[0m                                Traceback (most recent call last)",
            "\u001b[0;32m<ipython-input-2-90de2c31dc9f>\u001b[0m in \u001b[0;36m<module>\u001b[0;34m()\u001b[0m\n\u001b[1;32m      2\u001b[0m \u001b[0mr\u001b[0m \u001b[0;34m=\u001b[0m \u001b[0mnp\u001b[0m\u001b[0;34m.\u001b[0m\u001b[0mmatrix\u001b[0m\u001b[0;34m(\u001b[0m\u001b[0;34m'1;2;3;4'\u001b[0m\u001b[0;34m)\u001b[0m\u001b[0;34m\u001b[0m\u001b[0;34m\u001b[0m\u001b[0m\n\u001b[1;32m      3\u001b[0m \u001b[0;34m\u001b[0m\u001b[0m\n\u001b[0;32m----> 4\u001b[0;31m \u001b[0mr\u001b[0m\u001b[0;34m.\u001b[0m\u001b[0mdot\u001b[0m\u001b[0;34m(\u001b[0m\u001b[0mr\u001b[0m\u001b[0;34m)\u001b[0m\u001b[0;34m\u001b[0m\u001b[0;34m\u001b[0m\u001b[0m\n\u001b[0m",
            "\u001b[0;31mValueError\u001b[0m: shapes (4,1) and (4,1) not aligned: 1 (dim 1) != 4 (dim 0)"
          ]
        }
      ]
    },
    {
      "cell_type": "code",
      "metadata": {
        "colab": {
          "base_uri": "https://localhost:8080/"
        },
        "id": "wZKgM6Bf2KYN",
        "outputId": "73a5a966-39f6-45e4-87e1-ee37804a2079"
      },
      "source": [
        "# create a vector as an array\n",
        "s4 = np.array([1, 2, 3, 4])\n",
        "s4.dot(s4)"
      ],
      "execution_count": null,
      "outputs": [
        {
          "output_type": "execute_result",
          "data": {
            "text/plain": [
              "30"
            ]
          },
          "metadata": {},
          "execution_count": 6
        }
      ]
    },
    {
      "cell_type": "code",
      "metadata": {
        "colab": {
          "base_uri": "https://localhost:8080/"
        },
        "id": "c2drVN-c2qtX",
        "outputId": "016916b7-a280-404c-8200-c1ba4ed0e2b7"
      },
      "source": [
        "# the size of s4\n",
        "np.sqrt(s4.dot(s4))"
      ],
      "execution_count": null,
      "outputs": [
        {
          "output_type": "execute_result",
          "data": {
            "text/plain": [
              "5.477225575051661"
            ]
          },
          "metadata": {},
          "execution_count": 8
        }
      ]
    },
    {
      "cell_type": "code",
      "metadata": {
        "id": "Vhn929CN3Yxn"
      },
      "source": [
        "# Using the Grahm-Schmidt Orthonormalization Process\n",
        "r1 = np.array([3, 0, 3, 0])\n",
        "r2 = np.array([3, 2, 3, 3])\n",
        "r3 = np.array([-7, -4, -5, -6])\n",
        "r4 = np.array([-7, -3, -11, 2])\n"
      ],
      "execution_count": null,
      "outputs": []
    },
    {
      "cell_type": "code",
      "metadata": {
        "colab": {
          "base_uri": "https://localhost:8080/"
        },
        "id": "JykTUfz74HvM",
        "outputId": "03dbe9a3-adea-41b0-a8f8-362f77bce737"
      },
      "source": [
        "# find the first nice messy vector\n",
        "t1 = r1\n",
        "# subtract off nice basis vectors\n",
        "\n",
        "# find magnitude of t1\n",
        "n1 = np.sqrt(t1.dot(t1))\n",
        "\n",
        "#so u1 = (1/n1) * t1\n",
        "u1 = (1/n1) * t1\n",
        "u1"
      ],
      "execution_count": null,
      "outputs": [
        {
          "output_type": "execute_result",
          "data": {
            "text/plain": [
              "array([0.70710678, 0.        , 0.70710678, 0.        ])"
            ]
          },
          "metadata": {},
          "execution_count": 4
        }
      ]
    },
    {
      "cell_type": "code",
      "metadata": {
        "colab": {
          "base_uri": "https://localhost:8080/"
        },
        "id": "RV47NxJv5FZh",
        "outputId": "ddc80abe-cce5-41b8-ad17-2de9dd3a254c"
      },
      "source": [
        "#verify u1 has size 1 and is orthoganal to all other u vectors\n",
        "u1.dot(u1)"
      ],
      "execution_count": null,
      "outputs": [
        {
          "output_type": "execute_result",
          "data": {
            "text/plain": [
              "1.0000000000000002"
            ]
          },
          "metadata": {},
          "execution_count": 4
        }
      ]
    },
    {
      "cell_type": "code",
      "metadata": {
        "colab": {
          "base_uri": "https://localhost:8080/"
        },
        "id": "yPwkF5fG5k3q",
        "outputId": "fd1ddce1-408b-4738-da67-ce2c64b16a4a"
      },
      "source": [
        "# find the first nice messy vector\n",
        "t2 = r2 - r2.dot(u1) * u1\n",
        "# subtract off nice basis vectors\n",
        "\n",
        "# find magnitude of t1\n",
        "n2 = np.sqrt(t2.dot(t2))\n",
        "\n",
        "#so u2 = (1/n2) * t2\n",
        "u2 = (1/n2) * t2\n",
        "u2\n",
        "print(\"The squared size of u2 is  \", u2.dot(u2))\n",
        "print(u2)"
      ],
      "execution_count": null,
      "outputs": [
        {
          "output_type": "stream",
          "name": "stdout",
          "text": [
            "The squared size of u2 is   1.0\n",
            "[-1.23168186e-16  5.54700196e-01 -1.23168186e-16  8.32050294e-01]\n"
          ]
        }
      ]
    },
    {
      "cell_type": "code",
      "metadata": {
        "colab": {
          "base_uri": "https://localhost:8080/"
        },
        "id": "cwuI3BXA7L1Z",
        "outputId": "6e390b9a-9ad1-4a3f-e6fb-70f0bab276ab"
      },
      "source": [
        "# find the first nice messy vector\n",
        "t3 = r3 - r3.dot(u2) * u2 -r3.dot(u1) * u1\n",
        "# subtract off nice basis vectors\n",
        "\n",
        "# find magnitude of t1\n",
        "n3 = np.sqrt(t3.dot(t3))\n",
        "\n",
        "#so u3 = (1/n3) * t3\n",
        "u3 = (1/n3) * t3\n",
        "print(u3)\n",
        "print(\"The squared size of u3 is  \", u3.dot(u3))\n",
        "print(\"u3.u2 = \", u3.dot(u2))"
      ],
      "execution_count": null,
      "outputs": [
        {
          "output_type": "stream",
          "name": "stdout",
          "text": [
            "[-7.07106781e-01 -3.14018492e-16  7.07106781e-01 -6.28036983e-16]\n",
            "The squared size of u3 is   0.9999999999999998\n",
            "u3.u2 =  -6.967444759389139e-16\n"
          ]
        }
      ]
    },
    {
      "cell_type": "code",
      "metadata": {
        "colab": {
          "base_uri": "https://localhost:8080/"
        },
        "id": "IVbiuzaR-Vhw",
        "outputId": "5f95c8f8-3c4a-4b45-ff14-718bff11c812"
      },
      "source": [
        "# find the first nice messy vector\n",
        "t4 = r4 - r4.dot(u2) * u2 -r4.dot(u1) * u1 - r4.dot(u3) * u3\n",
        "# subtract off nice basis vectors\n",
        "\n",
        "# find magnitude of t1\n",
        "n4 = np.sqrt(t4.dot(t4))\n",
        "\n",
        "#so u43 = (1/n4) * t4\n",
        "u4 = (1/n4) * t4\n",
        "print(u4)\n",
        "print(\"The squared size of u4 is  \", u4.dot(u4))\n",
        "print(\"u4.u3 = \", u4.dot(u3))"
      ],
      "execution_count": null,
      "outputs": [
        {
          "output_type": "stream",
          "name": "stdout",
          "text": [
            "[-1.23168186e-16 -8.32050294e-01  1.23168186e-16  5.54700196e-01]\n",
            "The squared size of u4 is   1.0000000000000002\n",
            "u4.u3 =  8.709305949236507e-17\n"
          ]
        }
      ]
    },
    {
      "cell_type": "code",
      "metadata": {
        "colab": {
          "base_uri": "https://localhost:8080/"
        },
        "id": "MOD94Jxg_eSv",
        "outputId": "d89bbe14-a8d5-4ec6-8559-fe838713938e"
      },
      "source": [
        "r4.dot(u4)"
      ],
      "execution_count": null,
      "outputs": [
        {
          "output_type": "execute_result",
          "data": {
            "text/plain": [
              "3.6055512754639887"
            ]
          },
          "metadata": {},
          "execution_count": 27
        }
      ]
    }
  ]
}